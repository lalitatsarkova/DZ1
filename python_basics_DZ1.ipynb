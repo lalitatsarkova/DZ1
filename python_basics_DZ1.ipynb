{
 "cells": [
  {
   "cell_type": "markdown",
   "metadata": {},
   "source": [
    "**Задание 1**. Даны 2 строки: *long_phrase* и *short_phrase*. \n",
    "Напишите код, который проверяет действительно ли длинная фраза *long_phrase* длиннее короткой *short_phrase*. И выводит *True* или *False* в зависимости от результата сравнения."
   ]
  },
  {
   "cell_type": "code",
   "execution_count": 1,
   "metadata": {},
   "outputs": [
    {
     "data": {
      "text/plain": [
       "True"
      ]
     },
     "execution_count": 1,
     "metadata": {},
     "output_type": "execute_result"
    }
   ],
   "source": [
    "long_phrase = 'Насколько проще было бы писать программы, если бы не заказчики'\n",
    "short_phrase = '640Кб должно хватить для любых задач. Билл Гейтс (по легенде)'\n",
    "len(long_phrase) > len(short_phrase)"
   ]
  },
  {
   "cell_type": "markdown",
   "metadata": {},
   "source": [
    "**Задание 2**. Дано значение объема файла в байтах (*в мегабайте 2^20 байт*). Напишите перевод этого значения в мегабайты в формате: \"*Объем файла равен 213.68Mb*\"."
   ]
  },
  {
   "cell_type": "code",
   "execution_count": 3,
   "metadata": {},
   "outputs": [
    {
     "name": "stdout",
     "output_type": "stream",
     "text": [
      "Объем файла равен 1.91 Mb\n"
     ]
    }
   ],
   "source": [
    "volume_byte = 2000000\n",
    "volume_megabyte = volume_byte / 1048576\n",
    "volume_rounded = round(volume_megabyte,2)\n",
    "print('Объем файла равен', volume_rounded, \"Mb\")"
   ]
  },
  {
   "cell_type": "markdown",
   "metadata": {},
   "source": [
    "**Задание 3**. Разработать приложение для определения знака зодиака по дате рождения. Пример:\n",
    "\n",
    "Введите месяц: март\n",
    "\n",
    "Введите число: 6\n",
    "\n",
    "Вывод:\n",
    "Рыбы"
   ]
  },
  {
   "cell_type": "code",
   "execution_count": 4,
   "metadata": {},
   "outputs": [
    {
     "name": "stdout",
     "output_type": "stream",
     "text": [
      "Введите число: 23\n",
      "Введите месяц: май\n",
      "Ваш знак зодиака: Близнецы\n"
     ]
    }
   ],
   "source": [
    "day = int(input(\"Введите число: \"))\n",
    "month = input(\"Введите месяц: \")\n",
    "if month == 'декабрь':\n",
    "\tastro_sign = 'Стрелец' if (day < 22) else 'Козерог'\n",
    "elif month == 'январь':\n",
    "\tastro_sign = 'Козерог' if (day < 20) else 'Водолей'\n",
    "elif month == 'февраль':\n",
    "\tastro_sign = 'Водолей' if (day < 19) else 'Рыбы'\n",
    "elif month == 'март':\n",
    "\tastro_sign = 'Рыбы' if (day < 21) else 'Овен'\n",
    "elif month == 'апрель':\n",
    "\tastro_sign = 'Овен' if (day < 20) else 'Телец'\n",
    "elif month == 'май':\n",
    "\tastro_sign = 'Телец' if (day < 21) else 'Близнецы'\n",
    "elif month == 'июнь':\n",
    "\tastro_sign = 'Близнецы' if (day < 21) else 'Рак'\n",
    "elif month == 'июль':\n",
    "\tastro_sign = 'Рак' if (day < 23) else 'Лев'\n",
    "elif month == 'август':\n",
    "\tastro_sign = 'Лев' if (day < 23) else 'Дева'\n",
    "elif month == 'сентябрь':\n",
    "\tastro_sign = 'Дева' if (day < 23) else 'Весы'\n",
    "elif month == 'октябрь':\n",
    "\tastro_sign = 'Весы' if (day < 23) else 'Скорпион'\n",
    "elif month == 'ноябрь':\n",
    "\tastro_sign = 'Скорпион' if (day < 22) else 'Стрелец'\n",
    "print(\"Ваш знак зодиака:\",astro_sign)"
   ]
  },
  {
   "cell_type": "markdown",
   "metadata": {},
   "source": [
    "**Задание 4**. Нужно разработать приложение для финансового планирования.\n",
    "Приложение учитывает сколько уходит на ипотеку, \"на жизнь\" и сколько нужно отложить на пенсию.\n",
    "Пользователь вводит:\n",
    "- заработанную плату в месяц.\n",
    "- сколько процентов от ЗП уходит на ипотеку.\n",
    "- сколько процентов от ЗП уходит \"на жизнь\".\n",
    "- сколько раз приходит премия в год.\n",
    "\n",
    "Остальная часть заработанной платы откладывается на пенсию.\n",
    "\n",
    "Также пользователю приходит премия в размере зарплаты, от которой половина уходит на отпуск, а вторая половина откладывается.\n",
    "\n",
    "Программа должна учитывать сколько премий было в год.\n",
    "\n",
    "Нужно вывести сколько денег тратит пользователь на ипотеку и сколько он накопит за год.\n",
    "\n",
    "Пример:\n",
    "\n",
    "Введите заработанную плату в месяц: 100000\n",
    "\n",
    "Введите сколько процентов уходит на ипотеку: 30\n",
    "\n",
    "Введите сколько процентов уходит на жизнь: 50\n",
    "\n",
    "Введите количество премий за год: 2\n",
    "\n",
    "Вывод:\n",
    "На ипотеку было потрачено: 360000 рублей\n",
    "Было накоплено: 340000 рублей"
   ]
  },
  {
   "cell_type": "code",
   "execution_count": 21,
   "metadata": {},
   "outputs": [
    {
     "name": "stdout",
     "output_type": "stream",
     "text": [
      "Введите заработанную плату в месяц: 300000\n",
      "Введите сколько процентов уходит на жизнь: 60\n",
      "Введите сколько процентов уходит на ипотеку: 30\n",
      "Введите количество премий за год: 2\n",
      "На ипотеку было потрачено:  1080000.0\n",
      "Было накоплено:  660000.0\n"
     ]
    }
   ],
   "source": [
    "salary = int(input(\"Введите заработанную плату в месяц: \"))\n",
    "livelihood = input(\"Введите сколько процентов уходит на жизнь: \")\n",
    "mortgage = input(\"Введите сколько процентов уходит на ипотеку: \")\n",
    "bonus = input(\"Введите количество премий за год: \")\n",
    "mortgage_yearly_spend = int(salary) * int(mortgage) * 12 / 100 \n",
    "yearly_salary = int(salary) * 12\n",
    "percentage_left = 100 - int(livelihood) - int(mortgage)\n",
    "yearly_bonus_left = int(bonus) * int(salary) / 2\n",
    "savings = yearly_salary * (percentage_left * 0.01) + yearly_bonus_left\n",
    "print(\"На ипотеку было потрачено: \",mortgage_yearly_spend)\n",
    "print(\"Было накоплено: \",savings)"
   ]
  },
  {
   "cell_type": "code",
   "execution_count": null,
   "metadata": {},
   "outputs": [],
   "source": []
  }
 ],
 "metadata": {
  "kernelspec": {
   "display_name": "Python 3",
   "language": "python",
   "name": "python3"
  },
  "language_info": {
   "codemirror_mode": {
    "name": "ipython",
    "version": 3
   },
   "file_extension": ".py",
   "mimetype": "text/x-python",
   "name": "python",
   "nbconvert_exporter": "python",
   "pygments_lexer": "ipython3",
   "version": "3.7.6"
  }
 },
 "nbformat": 4,
 "nbformat_minor": 2
}
